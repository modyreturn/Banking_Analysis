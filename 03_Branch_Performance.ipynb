{
 "cells": [
  {
   "cell_type": "code",
   "execution_count": null,
   "id": "8ad534df",
   "metadata": {},
   "outputs": [
    {
     "data": {
      "application/vnd.microsoft.datawrangler.viewer.v0+json": {
       "columns": [
        {
         "name": "index",
         "rawType": "int64",
         "type": "integer"
        },
        {
         "name": "﻿Client ID",
         "rawType": "object",
         "type": "string"
        },
        {
         "name": "Name",
         "rawType": "object",
         "type": "string"
        },
        {
         "name": "Age",
         "rawType": "int64",
         "type": "integer"
        },
        {
         "name": "Location ID",
         "rawType": "int64",
         "type": "integer"
        },
        {
         "name": "Joined Bank",
         "rawType": "object",
         "type": "string"
        },
        {
         "name": "Banking Contact",
         "rawType": "object",
         "type": "string"
        },
        {
         "name": "Nationality",
         "rawType": "object",
         "type": "string"
        },
        {
         "name": "Occupation",
         "rawType": "object",
         "type": "string"
        },
        {
         "name": "Fee Structure",
         "rawType": "object",
         "type": "string"
        },
        {
         "name": "Loyalty Classification",
         "rawType": "object",
         "type": "string"
        },
        {
         "name": "Estimated Income",
         "rawType": "float64",
         "type": "float"
        },
        {
         "name": "Superannuation Savings",
         "rawType": "float64",
         "type": "float"
        },
        {
         "name": "Amount of Credit Cards",
         "rawType": "int64",
         "type": "integer"
        },
        {
         "name": "Credit Card Balance",
         "rawType": "float64",
         "type": "float"
        },
        {
         "name": "Bank Loans",
         "rawType": "float64",
         "type": "float"
        },
        {
         "name": "Bank Deposits",
         "rawType": "float64",
         "type": "float"
        },
        {
         "name": "Checking Accounts",
         "rawType": "float64",
         "type": "float"
        },
        {
         "name": "Saving Accounts",
         "rawType": "float64",
         "type": "float"
        },
        {
         "name": "Foreign Currency Account",
         "rawType": "float64",
         "type": "float"
        },
        {
         "name": "Business Lending",
         "rawType": "float64",
         "type": "float"
        },
        {
         "name": "Properties Owned",
         "rawType": "int64",
         "type": "integer"
        },
        {
         "name": "Risk Weighting",
         "rawType": "int64",
         "type": "integer"
        },
        {
         "name": "BRId",
         "rawType": "int64",
         "type": "integer"
        },
        {
         "name": "GenderId",
         "rawType": "int64",
         "type": "integer"
        },
        {
         "name": "IAId",
         "rawType": "int64",
         "type": "integer"
        }
       ],
       "ref": "db7c3c43-cd1c-4cbb-9135-4e18e99bb20c",
       "rows": [
        [
         "0",
         "IND81288",
         "Raymond Mills",
         "24",
         "34324",
         "06-05-2019",
         "Anthony Torres",
         "American",
         "Safety Technician IV",
         "High",
         "Jade",
         "75384.77",
         "17677.95",
         "1",
         "484.54",
         "776242.92",
         "1485828.64",
         "603617.88",
         "607332.46",
         "12249.96",
         "1134475.3",
         "1",
         "2",
         "1",
         "1",
         "1"
        ],
        [
         "1",
         "IND65833",
         "Julia Spencer",
         "23",
         "42205",
         "10-12-2001",
         "Jonathan Hawkins",
         "African",
         "Software Consultant",
         "High",
         "Jade",
         "289834.31",
         "17398.92",
         "1",
         "2256.88",
         "1270615.43",
         "641482.79",
         "229521.37",
         "344635.16",
         "61162.31",
         "2000526.1",
         "1",
         "3",
         "2",
         "1",
         "2"
        ],
        [
         "2",
         "IND47499",
         "Stephen Murray",
         "27",
         "7314",
         "25-01-2010",
         "Anthony Berry",
         "European",
         "Help Desk Operator",
         "High",
         "Gold",
         "169935.23",
         "42825.9",
         "2",
         "4568.74",
         "1052715.84",
         "1033401.59",
         "652674.69",
         "203054.35",
         "79071.78",
         "548137.58",
         "1",
         "3",
         "3",
         "2",
         "3"
        ],
        [
         "3",
         "IND72498",
         "Virginia Garza",
         "40",
         "34594",
         "28-03-2019",
         "Steve Diaz",
         "American",
         "Geologist II",
         "Mid",
         "Silver",
         "356808.11",
         "5473.15",
         "2",
         "4205.0",
         "121195.06",
         "1048157.49",
         "1048157.49",
         "234685.02",
         "57513.65",
         "1148402.29",
         "0",
         "4",
         "4",
         "1",
         "4"
        ],
        [
         "4",
         "IND60181",
         "Melissa Sanders",
         "46",
         "41269",
         "20-07-2012",
         "Shawn Long",
         "American",
         "Assistant Professor",
         "Mid",
         "Platinum",
         "130711.68",
         "48077.6",
         "1",
         "3779.49",
         "1048301.95",
         "487782.53",
         "446644.25",
         "128351.45",
         "30012.14",
         "1674412.12",
         "0",
         "3",
         "1",
         "2",
         "5"
        ]
       ],
       "shape": {
        "columns": 25,
        "rows": 5
       }
      },
      "text/html": [
       "<div>\n",
       "<style scoped>\n",
       "    .dataframe tbody tr th:only-of-type {\n",
       "        vertical-align: middle;\n",
       "    }\n",
       "\n",
       "    .dataframe tbody tr th {\n",
       "        vertical-align: top;\n",
       "    }\n",
       "\n",
       "    .dataframe thead th {\n",
       "        text-align: right;\n",
       "    }\n",
       "</style>\n",
       "<table border=\"1\" class=\"dataframe\">\n",
       "  <thead>\n",
       "    <tr style=\"text-align: right;\">\n",
       "      <th></th>\n",
       "      <th>﻿Client ID</th>\n",
       "      <th>Name</th>\n",
       "      <th>Age</th>\n",
       "      <th>Location ID</th>\n",
       "      <th>Joined Bank</th>\n",
       "      <th>Banking Contact</th>\n",
       "      <th>Nationality</th>\n",
       "      <th>Occupation</th>\n",
       "      <th>Fee Structure</th>\n",
       "      <th>Loyalty Classification</th>\n",
       "      <th>...</th>\n",
       "      <th>Bank Deposits</th>\n",
       "      <th>Checking Accounts</th>\n",
       "      <th>Saving Accounts</th>\n",
       "      <th>Foreign Currency Account</th>\n",
       "      <th>Business Lending</th>\n",
       "      <th>Properties Owned</th>\n",
       "      <th>Risk Weighting</th>\n",
       "      <th>BRId</th>\n",
       "      <th>GenderId</th>\n",
       "      <th>IAId</th>\n",
       "    </tr>\n",
       "  </thead>\n",
       "  <tbody>\n",
       "    <tr>\n",
       "      <th>0</th>\n",
       "      <td>IND81288</td>\n",
       "      <td>Raymond Mills</td>\n",
       "      <td>24</td>\n",
       "      <td>34324</td>\n",
       "      <td>06-05-2019</td>\n",
       "      <td>Anthony Torres</td>\n",
       "      <td>American</td>\n",
       "      <td>Safety Technician IV</td>\n",
       "      <td>High</td>\n",
       "      <td>Jade</td>\n",
       "      <td>...</td>\n",
       "      <td>1485828.64</td>\n",
       "      <td>603617.88</td>\n",
       "      <td>607332.46</td>\n",
       "      <td>12249.96</td>\n",
       "      <td>1134475.30</td>\n",
       "      <td>1</td>\n",
       "      <td>2</td>\n",
       "      <td>1</td>\n",
       "      <td>1</td>\n",
       "      <td>1</td>\n",
       "    </tr>\n",
       "    <tr>\n",
       "      <th>1</th>\n",
       "      <td>IND65833</td>\n",
       "      <td>Julia Spencer</td>\n",
       "      <td>23</td>\n",
       "      <td>42205</td>\n",
       "      <td>10-12-2001</td>\n",
       "      <td>Jonathan Hawkins</td>\n",
       "      <td>African</td>\n",
       "      <td>Software Consultant</td>\n",
       "      <td>High</td>\n",
       "      <td>Jade</td>\n",
       "      <td>...</td>\n",
       "      <td>641482.79</td>\n",
       "      <td>229521.37</td>\n",
       "      <td>344635.16</td>\n",
       "      <td>61162.31</td>\n",
       "      <td>2000526.10</td>\n",
       "      <td>1</td>\n",
       "      <td>3</td>\n",
       "      <td>2</td>\n",
       "      <td>1</td>\n",
       "      <td>2</td>\n",
       "    </tr>\n",
       "    <tr>\n",
       "      <th>2</th>\n",
       "      <td>IND47499</td>\n",
       "      <td>Stephen Murray</td>\n",
       "      <td>27</td>\n",
       "      <td>7314</td>\n",
       "      <td>25-01-2010</td>\n",
       "      <td>Anthony Berry</td>\n",
       "      <td>European</td>\n",
       "      <td>Help Desk Operator</td>\n",
       "      <td>High</td>\n",
       "      <td>Gold</td>\n",
       "      <td>...</td>\n",
       "      <td>1033401.59</td>\n",
       "      <td>652674.69</td>\n",
       "      <td>203054.35</td>\n",
       "      <td>79071.78</td>\n",
       "      <td>548137.58</td>\n",
       "      <td>1</td>\n",
       "      <td>3</td>\n",
       "      <td>3</td>\n",
       "      <td>2</td>\n",
       "      <td>3</td>\n",
       "    </tr>\n",
       "    <tr>\n",
       "      <th>3</th>\n",
       "      <td>IND72498</td>\n",
       "      <td>Virginia Garza</td>\n",
       "      <td>40</td>\n",
       "      <td>34594</td>\n",
       "      <td>28-03-2019</td>\n",
       "      <td>Steve Diaz</td>\n",
       "      <td>American</td>\n",
       "      <td>Geologist II</td>\n",
       "      <td>Mid</td>\n",
       "      <td>Silver</td>\n",
       "      <td>...</td>\n",
       "      <td>1048157.49</td>\n",
       "      <td>1048157.49</td>\n",
       "      <td>234685.02</td>\n",
       "      <td>57513.65</td>\n",
       "      <td>1148402.29</td>\n",
       "      <td>0</td>\n",
       "      <td>4</td>\n",
       "      <td>4</td>\n",
       "      <td>1</td>\n",
       "      <td>4</td>\n",
       "    </tr>\n",
       "    <tr>\n",
       "      <th>4</th>\n",
       "      <td>IND60181</td>\n",
       "      <td>Melissa Sanders</td>\n",
       "      <td>46</td>\n",
       "      <td>41269</td>\n",
       "      <td>20-07-2012</td>\n",
       "      <td>Shawn Long</td>\n",
       "      <td>American</td>\n",
       "      <td>Assistant Professor</td>\n",
       "      <td>Mid</td>\n",
       "      <td>Platinum</td>\n",
       "      <td>...</td>\n",
       "      <td>487782.53</td>\n",
       "      <td>446644.25</td>\n",
       "      <td>128351.45</td>\n",
       "      <td>30012.14</td>\n",
       "      <td>1674412.12</td>\n",
       "      <td>0</td>\n",
       "      <td>3</td>\n",
       "      <td>1</td>\n",
       "      <td>2</td>\n",
       "      <td>5</td>\n",
       "    </tr>\n",
       "  </tbody>\n",
       "</table>\n",
       "<p>5 rows × 25 columns</p>\n",
       "</div>"
      ],
      "text/plain": [
       "  ﻿Client ID             Name  Age  Location ID Joined Bank   Banking Contact  \\\n",
       "0   IND81288    Raymond Mills   24        34324  06-05-2019    Anthony Torres   \n",
       "1   IND65833    Julia Spencer   23        42205  10-12-2001  Jonathan Hawkins   \n",
       "2   IND47499   Stephen Murray   27         7314  25-01-2010     Anthony Berry   \n",
       "3   IND72498   Virginia Garza   40        34594  28-03-2019        Steve Diaz   \n",
       "4   IND60181  Melissa Sanders   46        41269  20-07-2012        Shawn Long   \n",
       "\n",
       "  Nationality            Occupation Fee Structure Loyalty Classification  ...  \\\n",
       "0    American  Safety Technician IV          High                   Jade  ...   \n",
       "1     African   Software Consultant          High                   Jade  ...   \n",
       "2    European    Help Desk Operator          High                   Gold  ...   \n",
       "3    American          Geologist II           Mid                 Silver  ...   \n",
       "4    American   Assistant Professor           Mid               Platinum  ...   \n",
       "\n",
       "   Bank Deposits  Checking Accounts  Saving Accounts  \\\n",
       "0     1485828.64          603617.88        607332.46   \n",
       "1      641482.79          229521.37        344635.16   \n",
       "2     1033401.59          652674.69        203054.35   \n",
       "3     1048157.49         1048157.49        234685.02   \n",
       "4      487782.53          446644.25        128351.45   \n",
       "\n",
       "   Foreign Currency Account  Business Lending  Properties Owned  \\\n",
       "0                  12249.96        1134475.30                 1   \n",
       "1                  61162.31        2000526.10                 1   \n",
       "2                  79071.78         548137.58                 1   \n",
       "3                  57513.65        1148402.29                 0   \n",
       "4                  30012.14        1674412.12                 0   \n",
       "\n",
       "   Risk Weighting  BRId  GenderId  IAId  \n",
       "0               2     1         1     1  \n",
       "1               3     2         1     2  \n",
       "2               3     3         2     3  \n",
       "3               4     4         1     4  \n",
       "4               3     1         2     5  \n",
       "\n",
       "[5 rows x 25 columns]"
      ]
     },
     "execution_count": 1,
     "metadata": {},
     "output_type": "execute_result"
    }
   ],
   "source": [
    "import pandas as pd\n",
    "import numpy as np\n",
    "import matplotlib.pyplot as plt\n",
    "import seaborn as sns\n",
    "from matplotlib.ticker import FuncFormatter\n",
    "\n",
    "import warnings\n",
    "warnings.filterwarnings(\"ignore\")\n",
    "\n",
    "\n",
    "from sqlalchemy import create_engine\n",
    "\n",
    "# Replace with your actual credentials\n",
    "username = 'root'\n",
    "password = 'YourPassword!'\n",
    "host = 'localhost'\n",
    "port = '3306'\n",
    "database = 'banking_db'\n",
    "\n",
    "# Create the connection string\n",
    "connection_string = f'mysql+mysqlconnector://{username}:{password}@{host}:{port}/{database}'\n",
    "\n",
    "# Create the SQLAlchemy engine\n",
    "engine = create_engine(connection_string)\n",
    "\n",
    "# Example: Read the 'accounts' table into a DataFrame\n",
    "df = pd.read_sql('SELECT * FROM banking', con=engine)\n",
    "\n",
    "df.head()"
   ]
  },
  {
   "cell_type": "code",
   "execution_count": 2,
   "id": "7dd20e5f",
   "metadata": {},
   "outputs": [
    {
     "name": "stdout",
     "output_type": "stream",
     "text": [
      "<class 'pandas.core.frame.DataFrame'>\n",
      "RangeIndex: 3000 entries, 0 to 2999\n",
      "Data columns (total 25 columns):\n",
      " #   Column                    Non-Null Count  Dtype  \n",
      "---  ------                    --------------  -----  \n",
      " 0   ﻿Client ID                3000 non-null   object \n",
      " 1   Name                      3000 non-null   object \n",
      " 2   Age                       3000 non-null   int64  \n",
      " 3   Location ID               3000 non-null   int64  \n",
      " 4   Joined Bank               3000 non-null   object \n",
      " 5   Banking Contact           3000 non-null   object \n",
      " 6   Nationality               3000 non-null   object \n",
      " 7   Occupation                3000 non-null   object \n",
      " 8   Fee Structure             3000 non-null   object \n",
      " 9   Loyalty Classification    3000 non-null   object \n",
      " 10  Estimated Income          3000 non-null   float64\n",
      " 11  Superannuation Savings    3000 non-null   float64\n",
      " 12  Amount of Credit Cards    3000 non-null   int64  \n",
      " 13  Credit Card Balance       3000 non-null   float64\n",
      " 14  Bank Loans                3000 non-null   float64\n",
      " 15  Bank Deposits             3000 non-null   float64\n",
      " 16  Checking Accounts         3000 non-null   float64\n",
      " 17  Saving Accounts           3000 non-null   float64\n",
      " 18  Foreign Currency Account  3000 non-null   float64\n",
      " 19  Business Lending          3000 non-null   float64\n",
      " 20  Properties Owned          3000 non-null   int64  \n",
      " 21  Risk Weighting            3000 non-null   int64  \n",
      " 22  BRId                      3000 non-null   int64  \n",
      " 23  GenderId                  3000 non-null   int64  \n",
      " 24  IAId                      3000 non-null   int64  \n",
      "dtypes: float64(9), int64(8), object(8)\n",
      "memory usage: 586.1+ KB\n"
     ]
    }
   ],
   "source": [
    "df.info()"
   ]
  },
  {
   "cell_type": "code",
   "execution_count": 3,
   "id": "a07d2085",
   "metadata": {},
   "outputs": [
    {
     "data": {
      "application/vnd.microsoft.datawrangler.viewer.v0+json": {
       "columns": [
        {
         "name": "index",
         "rawType": "object",
         "type": "string"
        },
        {
         "name": "Age",
         "rawType": "float64",
         "type": "float"
        },
        {
         "name": "Location ID",
         "rawType": "float64",
         "type": "float"
        },
        {
         "name": "Estimated Income",
         "rawType": "float64",
         "type": "float"
        },
        {
         "name": "Superannuation Savings",
         "rawType": "float64",
         "type": "float"
        },
        {
         "name": "Amount of Credit Cards",
         "rawType": "float64",
         "type": "float"
        },
        {
         "name": "Credit Card Balance",
         "rawType": "float64",
         "type": "float"
        },
        {
         "name": "Bank Loans",
         "rawType": "float64",
         "type": "float"
        },
        {
         "name": "Bank Deposits",
         "rawType": "float64",
         "type": "float"
        },
        {
         "name": "Checking Accounts",
         "rawType": "float64",
         "type": "float"
        },
        {
         "name": "Saving Accounts",
         "rawType": "float64",
         "type": "float"
        },
        {
         "name": "Foreign Currency Account",
         "rawType": "float64",
         "type": "float"
        },
        {
         "name": "Business Lending",
         "rawType": "float64",
         "type": "float"
        },
        {
         "name": "Properties Owned",
         "rawType": "float64",
         "type": "float"
        },
        {
         "name": "Risk Weighting",
         "rawType": "float64",
         "type": "float"
        },
        {
         "name": "BRId",
         "rawType": "float64",
         "type": "float"
        },
        {
         "name": "GenderId",
         "rawType": "float64",
         "type": "float"
        },
        {
         "name": "IAId",
         "rawType": "float64",
         "type": "float"
        }
       ],
       "ref": "86290ad7-f42b-46fd-ae7c-ad04e72b2021",
       "rows": [
        [
         "count",
         "3000.0",
         "3000.0",
         "3000.0",
         "3000.0",
         "3000.0",
         "3000.0",
         "3000.0",
         "3000.0",
         "3000.0",
         "3000.0",
         "3000.0",
         "3000.0",
         "3000.0",
         "3000.0",
         "3000.0",
         "3000.0",
         "3000.0"
        ],
        [
         "mean",
         "51.03966666666667",
         "21563.323",
         "171305.03426333333",
         "25531.59967333333",
         "1.4636666666666667",
         "3176.2069433333336",
         "591386.1554866667",
         "671560.1939233334",
         "321092.94912666664",
         "232908.3534833333",
         "29883.529993333334",
         "866759.8084066667",
         "1.5186666666666666",
         "2.2493333333333334",
         "2.5593333333333335",
         "1.504",
         "10.425333333333333"
        ],
        [
         "std",
         "19.85476006036269",
         "12462.273016652493",
         "111935.80820930158",
         "16259.950769534422",
         "0.6763867645368546",
         "2497.0947090086543",
         "457557.0363338233",
         "645716.8568753367",
         "282079.5538925877",
         "230007.77749790717",
         "23109.924009821396",
         "641230.3218226124",
         "1.1021447862836422",
         "1.1311908561953348",
         "1.007712616338584",
         "0.5000673512490724",
         "5.988242193700283"
        ],
        [
         "min",
         "17.0",
         "12.0",
         "15919.48",
         "1482.03",
         "1.0",
         "1.17",
         "0.0",
         "0.0",
         "0.0",
         "0.0",
         "45.0",
         "0.0",
         "0.0",
         "1.0",
         "1.0",
         "1.0",
         "1.0"
        ],
        [
         "25%",
         "34.0",
         "10803.5",
         "82906.595",
         "12513.775",
         "1.0",
         "1236.63",
         "239628.1375",
         "204400.375",
         "119947.53",
         "74794.405",
         "11916.5425",
         "374825.1375",
         "1.0",
         "1.0",
         "2.0",
         "1.0",
         "5.0"
        ],
        [
         "50%",
         "51.0",
         "21129.5",
         "142313.47999999998",
         "22357.355000000003",
         "1.0",
         "2560.8050000000003",
         "479793.4",
         "463316.46",
         "242815.655",
         "164086.555",
         "24341.190000000002",
         "711314.6599999999",
         "2.0",
         "2.0",
         "3.0",
         "2.0",
         "10.0"
        ],
        [
         "75%",
         "69.0",
         "32054.5",
         "242290.305",
         "35464.74",
         "2.0",
         "4522.6325",
         "825813.0375000001",
         "942754.63",
         "434874.9375",
         "315575.0025",
         "41966.3925",
         "1185110.075",
         "2.0",
         "3.0",
         "3.0",
         "2.0",
         "15.0"
        ],
        [
         "max",
         "85.0",
         "43369.0",
         "522330.26",
         "75963.9",
         "3.0",
         "13991.99",
         "2667556.66",
         "3890598.08",
         "1969923.08",
         "1724118.36",
         "124704.87",
         "3825961.94",
         "3.0",
         "5.0",
         "4.0",
         "2.0",
         "22.0"
        ]
       ],
       "shape": {
        "columns": 17,
        "rows": 8
       }
      },
      "text/html": [
       "<div>\n",
       "<style scoped>\n",
       "    .dataframe tbody tr th:only-of-type {\n",
       "        vertical-align: middle;\n",
       "    }\n",
       "\n",
       "    .dataframe tbody tr th {\n",
       "        vertical-align: top;\n",
       "    }\n",
       "\n",
       "    .dataframe thead th {\n",
       "        text-align: right;\n",
       "    }\n",
       "</style>\n",
       "<table border=\"1\" class=\"dataframe\">\n",
       "  <thead>\n",
       "    <tr style=\"text-align: right;\">\n",
       "      <th></th>\n",
       "      <th>Age</th>\n",
       "      <th>Location ID</th>\n",
       "      <th>Estimated Income</th>\n",
       "      <th>Superannuation Savings</th>\n",
       "      <th>Amount of Credit Cards</th>\n",
       "      <th>Credit Card Balance</th>\n",
       "      <th>Bank Loans</th>\n",
       "      <th>Bank Deposits</th>\n",
       "      <th>Checking Accounts</th>\n",
       "      <th>Saving Accounts</th>\n",
       "      <th>Foreign Currency Account</th>\n",
       "      <th>Business Lending</th>\n",
       "      <th>Properties Owned</th>\n",
       "      <th>Risk Weighting</th>\n",
       "      <th>BRId</th>\n",
       "      <th>GenderId</th>\n",
       "      <th>IAId</th>\n",
       "    </tr>\n",
       "  </thead>\n",
       "  <tbody>\n",
       "    <tr>\n",
       "      <th>count</th>\n",
       "      <td>3000.000000</td>\n",
       "      <td>3000.000000</td>\n",
       "      <td>3000.000000</td>\n",
       "      <td>3000.000000</td>\n",
       "      <td>3000.000000</td>\n",
       "      <td>3000.000000</td>\n",
       "      <td>3.000000e+03</td>\n",
       "      <td>3.000000e+03</td>\n",
       "      <td>3.000000e+03</td>\n",
       "      <td>3.000000e+03</td>\n",
       "      <td>3000.000000</td>\n",
       "      <td>3.000000e+03</td>\n",
       "      <td>3000.000000</td>\n",
       "      <td>3000.000000</td>\n",
       "      <td>3000.000000</td>\n",
       "      <td>3000.000000</td>\n",
       "      <td>3000.000000</td>\n",
       "    </tr>\n",
       "    <tr>\n",
       "      <th>mean</th>\n",
       "      <td>51.039667</td>\n",
       "      <td>21563.323000</td>\n",
       "      <td>171305.034263</td>\n",
       "      <td>25531.599673</td>\n",
       "      <td>1.463667</td>\n",
       "      <td>3176.206943</td>\n",
       "      <td>5.913862e+05</td>\n",
       "      <td>6.715602e+05</td>\n",
       "      <td>3.210929e+05</td>\n",
       "      <td>2.329084e+05</td>\n",
       "      <td>29883.529993</td>\n",
       "      <td>8.667598e+05</td>\n",
       "      <td>1.518667</td>\n",
       "      <td>2.249333</td>\n",
       "      <td>2.559333</td>\n",
       "      <td>1.504000</td>\n",
       "      <td>10.425333</td>\n",
       "    </tr>\n",
       "    <tr>\n",
       "      <th>std</th>\n",
       "      <td>19.854760</td>\n",
       "      <td>12462.273017</td>\n",
       "      <td>111935.808209</td>\n",
       "      <td>16259.950770</td>\n",
       "      <td>0.676387</td>\n",
       "      <td>2497.094709</td>\n",
       "      <td>4.575570e+05</td>\n",
       "      <td>6.457169e+05</td>\n",
       "      <td>2.820796e+05</td>\n",
       "      <td>2.300078e+05</td>\n",
       "      <td>23109.924010</td>\n",
       "      <td>6.412303e+05</td>\n",
       "      <td>1.102145</td>\n",
       "      <td>1.131191</td>\n",
       "      <td>1.007713</td>\n",
       "      <td>0.500067</td>\n",
       "      <td>5.988242</td>\n",
       "    </tr>\n",
       "    <tr>\n",
       "      <th>min</th>\n",
       "      <td>17.000000</td>\n",
       "      <td>12.000000</td>\n",
       "      <td>15919.480000</td>\n",
       "      <td>1482.030000</td>\n",
       "      <td>1.000000</td>\n",
       "      <td>1.170000</td>\n",
       "      <td>0.000000e+00</td>\n",
       "      <td>0.000000e+00</td>\n",
       "      <td>0.000000e+00</td>\n",
       "      <td>0.000000e+00</td>\n",
       "      <td>45.000000</td>\n",
       "      <td>0.000000e+00</td>\n",
       "      <td>0.000000</td>\n",
       "      <td>1.000000</td>\n",
       "      <td>1.000000</td>\n",
       "      <td>1.000000</td>\n",
       "      <td>1.000000</td>\n",
       "    </tr>\n",
       "    <tr>\n",
       "      <th>25%</th>\n",
       "      <td>34.000000</td>\n",
       "      <td>10803.500000</td>\n",
       "      <td>82906.595000</td>\n",
       "      <td>12513.775000</td>\n",
       "      <td>1.000000</td>\n",
       "      <td>1236.630000</td>\n",
       "      <td>2.396281e+05</td>\n",
       "      <td>2.044004e+05</td>\n",
       "      <td>1.199475e+05</td>\n",
       "      <td>7.479440e+04</td>\n",
       "      <td>11916.542500</td>\n",
       "      <td>3.748251e+05</td>\n",
       "      <td>1.000000</td>\n",
       "      <td>1.000000</td>\n",
       "      <td>2.000000</td>\n",
       "      <td>1.000000</td>\n",
       "      <td>5.000000</td>\n",
       "    </tr>\n",
       "    <tr>\n",
       "      <th>50%</th>\n",
       "      <td>51.000000</td>\n",
       "      <td>21129.500000</td>\n",
       "      <td>142313.480000</td>\n",
       "      <td>22357.355000</td>\n",
       "      <td>1.000000</td>\n",
       "      <td>2560.805000</td>\n",
       "      <td>4.797934e+05</td>\n",
       "      <td>4.633165e+05</td>\n",
       "      <td>2.428157e+05</td>\n",
       "      <td>1.640866e+05</td>\n",
       "      <td>24341.190000</td>\n",
       "      <td>7.113147e+05</td>\n",
       "      <td>2.000000</td>\n",
       "      <td>2.000000</td>\n",
       "      <td>3.000000</td>\n",
       "      <td>2.000000</td>\n",
       "      <td>10.000000</td>\n",
       "    </tr>\n",
       "    <tr>\n",
       "      <th>75%</th>\n",
       "      <td>69.000000</td>\n",
       "      <td>32054.500000</td>\n",
       "      <td>242290.305000</td>\n",
       "      <td>35464.740000</td>\n",
       "      <td>2.000000</td>\n",
       "      <td>4522.632500</td>\n",
       "      <td>8.258130e+05</td>\n",
       "      <td>9.427546e+05</td>\n",
       "      <td>4.348749e+05</td>\n",
       "      <td>3.155750e+05</td>\n",
       "      <td>41966.392500</td>\n",
       "      <td>1.185110e+06</td>\n",
       "      <td>2.000000</td>\n",
       "      <td>3.000000</td>\n",
       "      <td>3.000000</td>\n",
       "      <td>2.000000</td>\n",
       "      <td>15.000000</td>\n",
       "    </tr>\n",
       "    <tr>\n",
       "      <th>max</th>\n",
       "      <td>85.000000</td>\n",
       "      <td>43369.000000</td>\n",
       "      <td>522330.260000</td>\n",
       "      <td>75963.900000</td>\n",
       "      <td>3.000000</td>\n",
       "      <td>13991.990000</td>\n",
       "      <td>2.667557e+06</td>\n",
       "      <td>3.890598e+06</td>\n",
       "      <td>1.969923e+06</td>\n",
       "      <td>1.724118e+06</td>\n",
       "      <td>124704.870000</td>\n",
       "      <td>3.825962e+06</td>\n",
       "      <td>3.000000</td>\n",
       "      <td>5.000000</td>\n",
       "      <td>4.000000</td>\n",
       "      <td>2.000000</td>\n",
       "      <td>22.000000</td>\n",
       "    </tr>\n",
       "  </tbody>\n",
       "</table>\n",
       "</div>"
      ],
      "text/plain": [
       "               Age   Location ID  Estimated Income  Superannuation Savings  \\\n",
       "count  3000.000000   3000.000000       3000.000000             3000.000000   \n",
       "mean     51.039667  21563.323000     171305.034263            25531.599673   \n",
       "std      19.854760  12462.273017     111935.808209            16259.950770   \n",
       "min      17.000000     12.000000      15919.480000             1482.030000   \n",
       "25%      34.000000  10803.500000      82906.595000            12513.775000   \n",
       "50%      51.000000  21129.500000     142313.480000            22357.355000   \n",
       "75%      69.000000  32054.500000     242290.305000            35464.740000   \n",
       "max      85.000000  43369.000000     522330.260000            75963.900000   \n",
       "\n",
       "       Amount of Credit Cards  Credit Card Balance    Bank Loans  \\\n",
       "count             3000.000000          3000.000000  3.000000e+03   \n",
       "mean                 1.463667          3176.206943  5.913862e+05   \n",
       "std                  0.676387          2497.094709  4.575570e+05   \n",
       "min                  1.000000             1.170000  0.000000e+00   \n",
       "25%                  1.000000          1236.630000  2.396281e+05   \n",
       "50%                  1.000000          2560.805000  4.797934e+05   \n",
       "75%                  2.000000          4522.632500  8.258130e+05   \n",
       "max                  3.000000         13991.990000  2.667557e+06   \n",
       "\n",
       "       Bank Deposits  Checking Accounts  Saving Accounts  \\\n",
       "count   3.000000e+03       3.000000e+03     3.000000e+03   \n",
       "mean    6.715602e+05       3.210929e+05     2.329084e+05   \n",
       "std     6.457169e+05       2.820796e+05     2.300078e+05   \n",
       "min     0.000000e+00       0.000000e+00     0.000000e+00   \n",
       "25%     2.044004e+05       1.199475e+05     7.479440e+04   \n",
       "50%     4.633165e+05       2.428157e+05     1.640866e+05   \n",
       "75%     9.427546e+05       4.348749e+05     3.155750e+05   \n",
       "max     3.890598e+06       1.969923e+06     1.724118e+06   \n",
       "\n",
       "       Foreign Currency Account  Business Lending  Properties Owned  \\\n",
       "count               3000.000000      3.000000e+03       3000.000000   \n",
       "mean               29883.529993      8.667598e+05          1.518667   \n",
       "std                23109.924010      6.412303e+05          1.102145   \n",
       "min                   45.000000      0.000000e+00          0.000000   \n",
       "25%                11916.542500      3.748251e+05          1.000000   \n",
       "50%                24341.190000      7.113147e+05          2.000000   \n",
       "75%                41966.392500      1.185110e+06          2.000000   \n",
       "max               124704.870000      3.825962e+06          3.000000   \n",
       "\n",
       "       Risk Weighting         BRId     GenderId         IAId  \n",
       "count     3000.000000  3000.000000  3000.000000  3000.000000  \n",
       "mean         2.249333     2.559333     1.504000    10.425333  \n",
       "std          1.131191     1.007713     0.500067     5.988242  \n",
       "min          1.000000     1.000000     1.000000     1.000000  \n",
       "25%          1.000000     2.000000     1.000000     5.000000  \n",
       "50%          2.000000     3.000000     2.000000    10.000000  \n",
       "75%          3.000000     3.000000     2.000000    15.000000  \n",
       "max          5.000000     4.000000     2.000000    22.000000  "
      ]
     },
     "execution_count": 3,
     "metadata": {},
     "output_type": "execute_result"
    }
   ],
   "source": [
    "df.describe()"
   ]
  },
  {
   "cell_type": "code",
   "execution_count": 4,
   "id": "5485ca12",
   "metadata": {},
   "outputs": [
    {
     "data": {
      "application/vnd.microsoft.datawrangler.viewer.v0+json": {
       "columns": [
        {
         "name": "index",
         "rawType": "object",
         "type": "string"
        },
        {
         "name": "0",
         "rawType": "int64",
         "type": "integer"
        }
       ],
       "ref": "33cad2b3-d68d-45cc-8c2b-962c94ac9784",
       "rows": [
        [
         "﻿Client ID",
         "0"
        ],
        [
         "Name",
         "0"
        ],
        [
         "Age",
         "0"
        ],
        [
         "Location ID",
         "0"
        ],
        [
         "Joined Bank",
         "0"
        ],
        [
         "Banking Contact",
         "0"
        ],
        [
         "Nationality",
         "0"
        ],
        [
         "Occupation",
         "0"
        ],
        [
         "Fee Structure",
         "0"
        ],
        [
         "Loyalty Classification",
         "0"
        ],
        [
         "Estimated Income",
         "0"
        ],
        [
         "Superannuation Savings",
         "0"
        ],
        [
         "Amount of Credit Cards",
         "0"
        ],
        [
         "Credit Card Balance",
         "0"
        ],
        [
         "Bank Loans",
         "0"
        ],
        [
         "Bank Deposits",
         "0"
        ],
        [
         "Checking Accounts",
         "0"
        ],
        [
         "Saving Accounts",
         "0"
        ],
        [
         "Foreign Currency Account",
         "0"
        ],
        [
         "Business Lending",
         "0"
        ],
        [
         "Properties Owned",
         "0"
        ],
        [
         "Risk Weighting",
         "0"
        ],
        [
         "BRId",
         "0"
        ],
        [
         "GenderId",
         "0"
        ],
        [
         "IAId",
         "0"
        ]
       ],
       "shape": {
        "columns": 1,
        "rows": 25
       }
      },
      "text/plain": [
       "Client ID                  0\n",
       "Name                        0\n",
       "Age                         0\n",
       "Location ID                 0\n",
       "Joined Bank                 0\n",
       "Banking Contact             0\n",
       "Nationality                 0\n",
       "Occupation                  0\n",
       "Fee Structure               0\n",
       "Loyalty Classification      0\n",
       "Estimated Income            0\n",
       "Superannuation Savings      0\n",
       "Amount of Credit Cards      0\n",
       "Credit Card Balance         0\n",
       "Bank Loans                  0\n",
       "Bank Deposits               0\n",
       "Checking Accounts           0\n",
       "Saving Accounts             0\n",
       "Foreign Currency Account    0\n",
       "Business Lending            0\n",
       "Properties Owned            0\n",
       "Risk Weighting              0\n",
       "BRId                        0\n",
       "GenderId                    0\n",
       "IAId                        0\n",
       "dtype: int64"
      ]
     },
     "execution_count": 4,
     "metadata": {},
     "output_type": "execute_result"
    }
   ],
   "source": [
    "df.isnull().sum()"
   ]
  },
  {
   "cell_type": "code",
   "execution_count": 5,
   "id": "459c6e54",
   "metadata": {},
   "outputs": [
    {
     "data": {
      "text/plain": [
       "np.int64(0)"
      ]
     },
     "execution_count": 5,
     "metadata": {},
     "output_type": "execute_result"
    }
   ],
   "source": [
    "df.duplicated().sum()"
   ]
  },
  {
   "cell_type": "markdown",
   "id": "736809ad",
   "metadata": {},
   "source": [
    "### 3. Branch Performance:"
   ]
  },
  {
   "cell_type": "markdown",
   "id": "64949de7",
   "metadata": {},
   "source": [
    "-   A. Top Performing Branches (BRId):\n",
    "    -    Identify high-performing branches for resource allocation.."
   ]
  },
  {
   "cell_type": "code",
   "execution_count": 6,
   "id": "3b45a99b",
   "metadata": {},
   "outputs": [],
   "source": [
    "branch_performance = df.groupby('BRId').agg(\n",
    "    TotalDeposits=('Bank Deposits', 'sum'),\n",
    "    TotalLoans=('Bank Loans', 'sum'),\n",
    "    TotalIncome=('Estimated Income', 'sum')\n",
    ").reset_index()\n",
    "\n",
    "branch_performance = branch_performance.sort_values(by='TotalDeposits', ascending=False)"
   ]
  },
  {
   "cell_type": "code",
   "execution_count": 7,
   "id": "66dbb00c",
   "metadata": {},
   "outputs": [
    {
     "data": {
      "image/png": "[encoded data removed]",
      "text/plain": [
       "<Figure size 800x400 with 1 Axes>"
      ]
     },
     "metadata": {},
     "output_type": "display_data"
    }
   ],
   "source": [
    "fig, ax = plt.subplots(figsize=(8, 4))\n",
    "branch_performance.plot(\n",
    "    x='BRId',\n",
    "    y=['TotalDeposits', 'TotalLoans', 'TotalIncome'],\n",
    "    kind='bar',\n",
    "    ax=ax,\n",
    "    color = [\"#02C009\", \"#6fba85\", \"#C4F6DF\"],\n",
    "    edgecolor='darkslategray',\n",
    ")\n",
    "\n",
    "def currency_formatting(x, pos):\n",
    "    \"\"\"Format the y-axis labels as currency.\"\"\"\n",
    "    if x >= 1e6:\n",
    "        return f'${x / 1e6:.0f}M'\n",
    "    elif x >= 1e3:\n",
    "        return f'${x / 1e3:.0f}K'\n",
    "    else:\n",
    "        return f'${x:.0f}'\n",
    "\n",
    "plt.gca().yaxis.set_major_formatter(FuncFormatter(currency_formatting))\n",
    "\n",
    "plt.title('Total Deposits and Loans by Branch')\n",
    "plt.xlabel('Branch ID')\n",
    "plt.ylabel('Amount')\n",
    "\n",
    "plt.legend(title=None, bbox_to_anchor=(0.5, 1), loc='upper center', ncols=3, frameon=False)\n",
    "\n",
    "sns.despine()\n",
    "plt.tight_layout()\n",
    "plt.show()\n"
   ]
  },
  {
   "cell_type": "markdown",
   "id": "2002dd0e",
   "metadata": {},
   "source": [
    "-   #### Key Insights:\n",
    "\n",
    "    1. **Branch IDs**:\n",
    "    - The plot shows data for four branches, labeled as **Branch ID 3**, **Branch ID 4**, **Branch ID 2**, and **Branch ID 1**.\n",
    "\n",
    "    2. **Metrics**:\n",
    "    - Three metrics are displayed for each branch:\n",
    "        - **Total Deposits** (green bars)\n",
    "        - **Total Loans** (light green bars)\n",
    "        - **Total Income** (light blue bars)\n",
    "\n",
    "    3. **Comparison Across Branches**:\n",
    "    - **Branch ID 3**:\n",
    "        - Has the highest **Total Deposits**, exceeding **$800M**.\n",
    "        - Also has the highest **Total Loans**, around **$800M**.\n",
    "        - **Total Income** is moderate, around **$200M**.\n",
    "    - **Branch ID 4**:\n",
    "        - Shows moderate values for all three metrics:\n",
    "        - **Total Deposits**: Around **$400M**.\n",
    "        - **Total Loans**: Around **$400M**.\n",
    "        - **Total Income**: Around **$150M**.\n",
    "    - **Branch ID 2**:\n",
    "        - Similar to Branch ID 4, with moderate values:\n",
    "        - **Total Deposits**: Around **$300M**.\n",
    "        - **Total Loans**: Around **$300M**.\n",
    "        - **Total Income**: Around **$100M**.\n",
    "    - **Branch ID 1**:\n",
    "        - Shows the lowest values across all metrics:\n",
    "        - **Total Deposits**: Around **$400M**.\n",
    "        - **Total Loans**: Around **$400M**.\n",
    "        - **Total Income**: Around **$150M**.\n"
   ]
  },
  {
   "cell_type": "markdown",
   "id": "f8b54e41",
   "metadata": {},
   "source": [
    "_____________"
   ]
  }
 ],
 "metadata": {
  "kernelspec": {
   "display_name": "projects",
   "language": "python",
   "name": "python3"
  },
  "language_info": {
   "codemirror_mode": {
    "name": "ipython",
    "version": 3
   },
   "file_extension": ".py",
   "mimetype": "text/x-python",
   "name": "python",
   "nbconvert_exporter": "python",
   "pygments_lexer": "ipython3",
   "version": "3.13.4"
  }
 },
 "nbformat": 4,
 "nbformat_minor": 5
}
